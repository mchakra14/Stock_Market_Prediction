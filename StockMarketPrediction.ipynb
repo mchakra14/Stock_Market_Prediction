{
 "cells": [
  {
   "cell_type": "code",
   "execution_count": 1,
   "metadata": {},
   "outputs": [],
   "source": [
    "import os\n",
    "import pandas as pd\n",
    "import numpy as np\n",
    "#import datetime\n",
    "import matplotlib.pyplot as plt\n",
    "%matplotlib inline\n",
    "import seaborn as sns\n",
    "plt.style.use('bmh')"
   ]
  },
  {
   "cell_type": "code",
   "execution_count": 2,
   "metadata": {},
   "outputs": [
    {
     "data": {
      "text/plain": [
       "'C:\\\\Users\\\\RetailAdmin\\\\Documents\\\\Jigsaw\\\\Stock market Prediction'"
      ]
     },
     "execution_count": 2,
     "metadata": {},
     "output_type": "execute_result"
    }
   ],
   "source": [
    "# Setting the working directory\n",
    "os.chdir(\"C:\\\\Users\\\\RetailAdmin\\\\Documents\\\\Jigsaw\\\\Stock market Prediction\")\n",
    "os.getcwd()"
   ]
  },
  {
   "cell_type": "code",
   "execution_count": 3,
   "metadata": {},
   "outputs": [],
   "source": [
    "# Reading the csv, xlsx file\n",
    "stock=pd.read_csv(\"GOOG_StockData.csv\",na_values=[\"\",\" \",\"N/A\",\"NA\"])"
   ]
  },
  {
   "cell_type": "code",
   "execution_count": 4,
   "metadata": {},
   "outputs": [],
   "source": [
    "# normalizing data\n",
    "from sklearn.preprocessing import MinMaxScaler\n",
    "scaler = MinMaxScaler(feature_range=(0, 1))"
   ]
  },
  {
   "cell_type": "code",
   "execution_count": 5,
   "metadata": {},
   "outputs": [],
   "source": [
    "stock1=stock.copy()"
   ]
  },
  {
   "cell_type": "code",
   "execution_count": 6,
   "metadata": {},
   "outputs": [
    {
     "data": {
      "text/plain": [
       "(1259, 7)"
      ]
     },
     "execution_count": 6,
     "metadata": {},
     "output_type": "execute_result"
    }
   ],
   "source": [
    "stock.shape"
   ]
  },
  {
   "cell_type": "code",
   "execution_count": 7,
   "metadata": {},
   "outputs": [
    {
     "name": "stdout",
     "output_type": "stream",
     "text": [
      "<class 'pandas.core.frame.DataFrame'>\n",
      "RangeIndex: 1259 entries, 0 to 1258\n",
      "Data columns (total 7 columns):\n",
      " #   Column     Non-Null Count  Dtype  \n",
      "---  ------     --------------  -----  \n",
      " 0   Date       1259 non-null   object \n",
      " 1   Open       1259 non-null   float64\n",
      " 2   High       1259 non-null   float64\n",
      " 3   Low        1259 non-null   float64\n",
      " 4   Close      1259 non-null   float64\n",
      " 5   Adj Close  1259 non-null   float64\n",
      " 6   Volume     1259 non-null   int64  \n",
      "dtypes: float64(5), int64(1), object(1)\n",
      "memory usage: 69.0+ KB\n"
     ]
    }
   ],
   "source": [
    "stock.info()"
   ]
  },
  {
   "cell_type": "code",
   "execution_count": 8,
   "metadata": {},
   "outputs": [
    {
     "data": {
      "text/html": [
       "<div>\n",
       "<style scoped>\n",
       "    .dataframe tbody tr th:only-of-type {\n",
       "        vertical-align: middle;\n",
       "    }\n",
       "\n",
       "    .dataframe tbody tr th {\n",
       "        vertical-align: top;\n",
       "    }\n",
       "\n",
       "    .dataframe thead th {\n",
       "        text-align: right;\n",
       "    }\n",
       "</style>\n",
       "<table border=\"1\" class=\"dataframe\">\n",
       "  <thead>\n",
       "    <tr style=\"text-align: right;\">\n",
       "      <th></th>\n",
       "      <th>Open</th>\n",
       "      <th>High</th>\n",
       "      <th>Low</th>\n",
       "      <th>Close</th>\n",
       "      <th>Adj Close</th>\n",
       "      <th>Volume</th>\n",
       "    </tr>\n",
       "  </thead>\n",
       "  <tbody>\n",
       "    <tr>\n",
       "      <th>count</th>\n",
       "      <td>1259.000000</td>\n",
       "      <td>1259.000000</td>\n",
       "      <td>1259.000000</td>\n",
       "      <td>1259.000000</td>\n",
       "      <td>1259.000000</td>\n",
       "      <td>1.259000e+03</td>\n",
       "    </tr>\n",
       "    <tr>\n",
       "      <th>mean</th>\n",
       "      <td>1038.785647</td>\n",
       "      <td>1048.701819</td>\n",
       "      <td>1029.154337</td>\n",
       "      <td>1039.409947</td>\n",
       "      <td>1039.409947</td>\n",
       "      <td>1.689420e+06</td>\n",
       "    </tr>\n",
       "    <tr>\n",
       "      <th>std</th>\n",
       "      <td>241.174252</td>\n",
       "      <td>244.727230</td>\n",
       "      <td>238.153898</td>\n",
       "      <td>241.626692</td>\n",
       "      <td>241.626692</td>\n",
       "      <td>7.777893e+05</td>\n",
       "    </tr>\n",
       "    <tr>\n",
       "      <th>min</th>\n",
       "      <td>597.280029</td>\n",
       "      <td>605.000000</td>\n",
       "      <td>590.219971</td>\n",
       "      <td>594.969971</td>\n",
       "      <td>594.969971</td>\n",
       "      <td>3.475000e+05</td>\n",
       "    </tr>\n",
       "    <tr>\n",
       "      <th>25%</th>\n",
       "      <td>797.370025</td>\n",
       "      <td>802.850006</td>\n",
       "      <td>793.095002</td>\n",
       "      <td>796.879975</td>\n",
       "      <td>796.879975</td>\n",
       "      <td>1.213200e+06</td>\n",
       "    </tr>\n",
       "    <tr>\n",
       "      <th>50%</th>\n",
       "      <td>1055.089966</td>\n",
       "      <td>1067.000000</td>\n",
       "      <td>1044.087036</td>\n",
       "      <td>1054.790039</td>\n",
       "      <td>1054.790039</td>\n",
       "      <td>1.487400e+06</td>\n",
       "    </tr>\n",
       "    <tr>\n",
       "      <th>75%</th>\n",
       "      <td>1195.200012</td>\n",
       "      <td>1203.832519</td>\n",
       "      <td>1185.104981</td>\n",
       "      <td>1194.975037</td>\n",
       "      <td>1194.975037</td>\n",
       "      <td>1.930950e+06</td>\n",
       "    </tr>\n",
       "    <tr>\n",
       "      <th>max</th>\n",
       "      <td>1709.713989</td>\n",
       "      <td>1733.180054</td>\n",
       "      <td>1666.329956</td>\n",
       "      <td>1728.280029</td>\n",
       "      <td>1728.280029</td>\n",
       "      <td>6.653900e+06</td>\n",
       "    </tr>\n",
       "  </tbody>\n",
       "</table>\n",
       "</div>"
      ],
      "text/plain": [
       "              Open         High          Low        Close    Adj Close  \\\n",
       "count  1259.000000  1259.000000  1259.000000  1259.000000  1259.000000   \n",
       "mean   1038.785647  1048.701819  1029.154337  1039.409947  1039.409947   \n",
       "std     241.174252   244.727230   238.153898   241.626692   241.626692   \n",
       "min     597.280029   605.000000   590.219971   594.969971   594.969971   \n",
       "25%     797.370025   802.850006   793.095002   796.879975   796.879975   \n",
       "50%    1055.089966  1067.000000  1044.087036  1054.790039  1054.790039   \n",
       "75%    1195.200012  1203.832519  1185.104981  1194.975037  1194.975037   \n",
       "max    1709.713989  1733.180054  1666.329956  1728.280029  1728.280029   \n",
       "\n",
       "             Volume  \n",
       "count  1.259000e+03  \n",
       "mean   1.689420e+06  \n",
       "std    7.777893e+05  \n",
       "min    3.475000e+05  \n",
       "25%    1.213200e+06  \n",
       "50%    1.487400e+06  \n",
       "75%    1.930950e+06  \n",
       "max    6.653900e+06  "
      ]
     },
     "execution_count": 8,
     "metadata": {},
     "output_type": "execute_result"
    }
   ],
   "source": [
    "stock.describe()"
   ]
  },
  {
   "cell_type": "code",
   "execution_count": 9,
   "metadata": {},
   "outputs": [
    {
     "data": {
      "text/html": [
       "<div>\n",
       "<style scoped>\n",
       "    .dataframe tbody tr th:only-of-type {\n",
       "        vertical-align: middle;\n",
       "    }\n",
       "\n",
       "    .dataframe tbody tr th {\n",
       "        vertical-align: top;\n",
       "    }\n",
       "\n",
       "    .dataframe thead th {\n",
       "        text-align: right;\n",
       "    }\n",
       "</style>\n",
       "<table border=\"1\" class=\"dataframe\">\n",
       "  <thead>\n",
       "    <tr style=\"text-align: right;\">\n",
       "      <th></th>\n",
       "      <th>Date</th>\n",
       "      <th>Open</th>\n",
       "      <th>High</th>\n",
       "      <th>Low</th>\n",
       "      <th>Close</th>\n",
       "      <th>Adj Close</th>\n",
       "      <th>Volume</th>\n",
       "    </tr>\n",
       "  </thead>\n",
       "  <tbody>\n",
       "    <tr>\n",
       "      <th>0</th>\n",
       "      <td>9/29/2015</td>\n",
       "      <td>597.280029</td>\n",
       "      <td>605.000000</td>\n",
       "      <td>590.219971</td>\n",
       "      <td>594.969971</td>\n",
       "      <td>594.969971</td>\n",
       "      <td>2309500</td>\n",
       "    </tr>\n",
       "    <tr>\n",
       "      <th>1</th>\n",
       "      <td>9/30/2015</td>\n",
       "      <td>603.280029</td>\n",
       "      <td>608.760010</td>\n",
       "      <td>600.729980</td>\n",
       "      <td>608.419983</td>\n",
       "      <td>608.419983</td>\n",
       "      <td>2413400</td>\n",
       "    </tr>\n",
       "    <tr>\n",
       "      <th>2</th>\n",
       "      <td>10/1/2015</td>\n",
       "      <td>608.369995</td>\n",
       "      <td>612.090027</td>\n",
       "      <td>599.849976</td>\n",
       "      <td>611.289978</td>\n",
       "      <td>611.289978</td>\n",
       "      <td>1867600</td>\n",
       "    </tr>\n",
       "    <tr>\n",
       "      <th>3</th>\n",
       "      <td>10/2/2015</td>\n",
       "      <td>607.200012</td>\n",
       "      <td>627.340027</td>\n",
       "      <td>603.130005</td>\n",
       "      <td>626.909973</td>\n",
       "      <td>626.909973</td>\n",
       "      <td>2684800</td>\n",
       "    </tr>\n",
       "    <tr>\n",
       "      <th>4</th>\n",
       "      <td>10/5/2015</td>\n",
       "      <td>632.000000</td>\n",
       "      <td>643.010010</td>\n",
       "      <td>627.000000</td>\n",
       "      <td>641.469971</td>\n",
       "      <td>641.469971</td>\n",
       "      <td>1803600</td>\n",
       "    </tr>\n",
       "  </tbody>\n",
       "</table>\n",
       "</div>"
      ],
      "text/plain": [
       "        Date        Open        High         Low       Close   Adj Close  \\\n",
       "0  9/29/2015  597.280029  605.000000  590.219971  594.969971  594.969971   \n",
       "1  9/30/2015  603.280029  608.760010  600.729980  608.419983  608.419983   \n",
       "2  10/1/2015  608.369995  612.090027  599.849976  611.289978  611.289978   \n",
       "3  10/2/2015  607.200012  627.340027  603.130005  626.909973  626.909973   \n",
       "4  10/5/2015  632.000000  643.010010  627.000000  641.469971  641.469971   \n",
       "\n",
       "    Volume  \n",
       "0  2309500  \n",
       "1  2413400  \n",
       "2  1867600  \n",
       "3  2684800  \n",
       "4  1803600  "
      ]
     },
     "execution_count": 9,
     "metadata": {},
     "output_type": "execute_result"
    }
   ],
   "source": [
    "stock.head()"
   ]
  },
  {
   "cell_type": "code",
   "execution_count": 10,
   "metadata": {},
   "outputs": [],
   "source": [
    "stock['Volume']=stock['Volume'].astype(float)"
   ]
  },
  {
   "cell_type": "code",
   "execution_count": 11,
   "metadata": {},
   "outputs": [
    {
     "data": {
      "text/plain": [
       "False"
      ]
     },
     "execution_count": 11,
     "metadata": {},
     "output_type": "execute_result"
    }
   ],
   "source": [
    "stock.isnull().values.any()"
   ]
  },
  {
   "cell_type": "code",
   "execution_count": 12,
   "metadata": {},
   "outputs": [],
   "source": [
    "#merged_dataframe.index = merged_dataframe.index.sort_values()\n",
    "#merged_dataframe.head()"
   ]
  },
  {
   "cell_type": "code",
   "execution_count": 13,
   "metadata": {},
   "outputs": [
    {
     "data": {
      "image/png": "[encoded data removed]",
      "text/plain": [
       "<Figure size 720x720 with 6 Axes>"
      ]
     },
     "metadata": {},
     "output_type": "display_data"
    }
   ],
   "source": [
    "# Plot a histogram for all the columns of the dataframe. This shows the frequency of values in all the columns\n",
    "sns.set()\n",
    "stock.hist(sharex = False, sharey = False, xlabelsize = 4, ylabelsize = 4, figsize=(10, 10))\n",
    "plt.show()"
   ]
  },
  {
   "cell_type": "code",
   "execution_count": 14,
   "metadata": {},
   "outputs": [
    {
     "data": {
      "image/png": "[encoded data removed]",
      "text/plain": [
       "<Figure size 1152x576 with 1 Axes>"
      ]
     },
     "metadata": {},
     "output_type": "display_data"
    }
   ],
   "source": [
    "#visualising the closing price data\n",
    "plt.figure(figsize=(16,8))\n",
    "plt.title('GOOG')\n",
    "plt.xlabel('Days')\n",
    "plt.ylabel('Closing Price')\n",
    "plt.plot(stock['Close'])\n",
    "plt.show()"
   ]
  },
  {
   "cell_type": "code",
   "execution_count": 15,
   "metadata": {},
   "outputs": [
    {
     "data": {
      "text/plain": [
       "<matplotlib.axes._subplots.AxesSubplot at 0x1ff9e6a4908>"
      ]
     },
     "execution_count": 15,
     "metadata": {},
     "output_type": "execute_result"
    },
    {
     "data": {
      "image/png": "[encoded data removed]",
      "text/plain": [
       "<Figure size 720x720 with 2 Axes>"
      ]
     },
     "metadata": {},
     "output_type": "display_data"
    }
   ],
   "source": [
    "plt.figure(figsize=(10, 10))\n",
    "sns.heatmap(stock.corr(), annot=True, cmap=\"RdYlGn\", annot_kws={\"size\":10})"
   ]
  },
  {
   "cell_type": "code",
   "execution_count": 16,
   "metadata": {},
   "outputs": [
    {
     "name": "stdout",
     "output_type": "stream",
     "text": [
      "           Date         Open         High          Low        Close  \\\n",
      "1242   9/3/2020  1709.713989  1709.713989  1615.060059  1641.839966   \n",
      "1243   9/4/2020  1624.260010  1645.109985  1547.613037  1591.040039   \n",
      "1244   9/8/2020  1533.510010  1563.864990  1528.010010  1532.390015   \n",
      "1245   9/9/2020  1557.530029  1569.000000  1536.051025  1556.959961   \n",
      "1246  9/10/2020  1560.640015  1584.081055  1525.805054  1532.020020   \n",
      "1247  9/11/2020  1536.000000  1575.199951  1497.359985  1520.719971   \n",
      "1248  9/14/2020  1539.005005  1564.000000  1515.739990  1519.280029   \n",
      "1249  9/15/2020  1536.000000  1559.569946  1531.834961  1541.439941   \n",
      "1250  9/16/2020  1555.540039  1562.000000  1519.819946  1520.900024   \n",
      "\n",
      "        Adj Close     Volume  \n",
      "1242  1641.839966  3107800.0  \n",
      "1243  1591.040039  2608600.0  \n",
      "1244  1532.390015  2610900.0  \n",
      "1245  1556.959961  1774700.0  \n",
      "1246  1532.020020  1618600.0  \n",
      "1247  1520.719971  1597100.0  \n",
      "1248  1519.280029  1696600.0  \n",
      "1249  1541.439941  1331100.0  \n",
      "1250  1520.900024  1311700.0  \n"
     ]
    }
   ],
   "source": [
    "live_pred_data = stock.iloc[-17:-8]\n",
    "print(live_pred_data)"
   ]
  },
  {
   "cell_type": "code",
   "execution_count": 17,
   "metadata": {},
   "outputs": [
    {
     "name": "stdout",
     "output_type": "stream",
     "text": [
      "        Date        Open        High         Low       Close   Adj Close  \\\n",
      "0  9/29/2015  597.280029  605.000000  590.219971  594.969971  594.969971   \n",
      "1  9/30/2015  603.280029  608.760010  600.729980  608.419983  608.419983   \n",
      "2  10/1/2015  608.369995  612.090027  599.849976  611.289978  611.289978   \n",
      "3  10/2/2015  607.200012  627.340027  603.130005  626.909973  626.909973   \n",
      "4  10/5/2015  632.000000  643.010010  627.000000  641.469971  641.469971   \n",
      "\n",
      "      Volume  Prediction  \n",
      "0  2309500.0  650.280029  \n",
      "1  2413400.0  642.609985  \n",
      "2  1867600.0  651.789978  \n",
      "3  2684800.0  702.000000  \n",
      "4  1803600.0  712.780029  \n",
      "<class 'pandas.core.frame.DataFrame'>\n"
     ]
    }
   ],
   "source": [
    "#Create a variable to predict 'x' days out in future\n",
    "future_days=15\n",
    "#Create a new column(target) shifted 'x' units/day up\n",
    "stock['Prediction']=stock[['Close']].shift(-future_days)\n",
    "print(stock.head())\n",
    "print(type(stock))"
   ]
  },
  {
   "cell_type": "code",
   "execution_count": 18,
   "metadata": {},
   "outputs": [],
   "source": [
    "stock=stock.dropna()"
   ]
  },
  {
   "cell_type": "code",
   "execution_count": 19,
   "metadata": {},
   "outputs": [
    {
     "data": {
      "text/plain": [
       "1244"
      ]
     },
     "execution_count": 19,
     "metadata": {},
     "output_type": "execute_result"
    }
   ],
   "source": [
    "stock.shape[0]"
   ]
  },
  {
   "cell_type": "code",
   "execution_count": 20,
   "metadata": {},
   "outputs": [],
   "source": [
    "stock_1=stock.drop(['Date','Adj Close'],axis=1)"
   ]
  },
  {
   "cell_type": "code",
   "execution_count": 21,
   "metadata": {},
   "outputs": [
    {
     "data": {
      "text/html": [
       "<div>\n",
       "<style scoped>\n",
       "    .dataframe tbody tr th:only-of-type {\n",
       "        vertical-align: middle;\n",
       "    }\n",
       "\n",
       "    .dataframe tbody tr th {\n",
       "        vertical-align: top;\n",
       "    }\n",
       "\n",
       "    .dataframe thead th {\n",
       "        text-align: right;\n",
       "    }\n",
       "</style>\n",
       "<table border=\"1\" class=\"dataframe\">\n",
       "  <thead>\n",
       "    <tr style=\"text-align: right;\">\n",
       "      <th></th>\n",
       "      <th>Open</th>\n",
       "      <th>High</th>\n",
       "      <th>Low</th>\n",
       "      <th>Close</th>\n",
       "      <th>Volume</th>\n",
       "      <th>Prediction</th>\n",
       "    </tr>\n",
       "  </thead>\n",
       "  <tbody>\n",
       "    <tr>\n",
       "      <th>0</th>\n",
       "      <td>597.280029</td>\n",
       "      <td>605.000000</td>\n",
       "      <td>590.219971</td>\n",
       "      <td>594.969971</td>\n",
       "      <td>2309500.0</td>\n",
       "      <td>650.280029</td>\n",
       "    </tr>\n",
       "    <tr>\n",
       "      <th>1</th>\n",
       "      <td>603.280029</td>\n",
       "      <td>608.760010</td>\n",
       "      <td>600.729980</td>\n",
       "      <td>608.419983</td>\n",
       "      <td>2413400.0</td>\n",
       "      <td>642.609985</td>\n",
       "    </tr>\n",
       "    <tr>\n",
       "      <th>2</th>\n",
       "      <td>608.369995</td>\n",
       "      <td>612.090027</td>\n",
       "      <td>599.849976</td>\n",
       "      <td>611.289978</td>\n",
       "      <td>1867600.0</td>\n",
       "      <td>651.789978</td>\n",
       "    </tr>\n",
       "    <tr>\n",
       "      <th>3</th>\n",
       "      <td>607.200012</td>\n",
       "      <td>627.340027</td>\n",
       "      <td>603.130005</td>\n",
       "      <td>626.909973</td>\n",
       "      <td>2684800.0</td>\n",
       "      <td>702.000000</td>\n",
       "    </tr>\n",
       "    <tr>\n",
       "      <th>4</th>\n",
       "      <td>632.000000</td>\n",
       "      <td>643.010010</td>\n",
       "      <td>627.000000</td>\n",
       "      <td>641.469971</td>\n",
       "      <td>1803600.0</td>\n",
       "      <td>712.780029</td>\n",
       "    </tr>\n",
       "  </tbody>\n",
       "</table>\n",
       "</div>"
      ],
      "text/plain": [
       "         Open        High         Low       Close     Volume  Prediction\n",
       "0  597.280029  605.000000  590.219971  594.969971  2309500.0  650.280029\n",
       "1  603.280029  608.760010  600.729980  608.419983  2413400.0  642.609985\n",
       "2  608.369995  612.090027  599.849976  611.289978  1867600.0  651.789978\n",
       "3  607.200012  627.340027  603.130005  626.909973  2684800.0  702.000000\n",
       "4  632.000000  643.010010  627.000000  641.469971  1803600.0  712.780029"
      ]
     },
     "execution_count": 21,
     "metadata": {},
     "output_type": "execute_result"
    }
   ],
   "source": [
    "stock_1.head()"
   ]
  },
  {
   "cell_type": "code",
   "execution_count": 22,
   "metadata": {},
   "outputs": [],
   "source": [
    "rows = stock.values.tolist()\n",
    "X1=[]\n",
    "for row in rows:\n",
    "    X1.append(int(''.join(row[0].split('/'))))\n"
   ]
  },
  {
   "cell_type": "code",
   "execution_count": 23,
   "metadata": {},
   "outputs": [],
   "source": [
    "s_1=pd.DataFrame({'Date':X1})"
   ]
  },
  {
   "cell_type": "code",
   "execution_count": 24,
   "metadata": {},
   "outputs": [
    {
     "data": {
      "text/html": [
       "<div>\n",
       "<style scoped>\n",
       "    .dataframe tbody tr th:only-of-type {\n",
       "        vertical-align: middle;\n",
       "    }\n",
       "\n",
       "    .dataframe tbody tr th {\n",
       "        vertical-align: top;\n",
       "    }\n",
       "\n",
       "    .dataframe thead th {\n",
       "        text-align: right;\n",
       "    }\n",
       "</style>\n",
       "<table border=\"1\" class=\"dataframe\">\n",
       "  <thead>\n",
       "    <tr style=\"text-align: right;\">\n",
       "      <th></th>\n",
       "      <th>Date</th>\n",
       "    </tr>\n",
       "  </thead>\n",
       "  <tbody>\n",
       "    <tr>\n",
       "      <th>0</th>\n",
       "      <td>9292015</td>\n",
       "    </tr>\n",
       "    <tr>\n",
       "      <th>1</th>\n",
       "      <td>9302015</td>\n",
       "    </tr>\n",
       "    <tr>\n",
       "      <th>2</th>\n",
       "      <td>1012015</td>\n",
       "    </tr>\n",
       "    <tr>\n",
       "      <th>3</th>\n",
       "      <td>1022015</td>\n",
       "    </tr>\n",
       "    <tr>\n",
       "      <th>4</th>\n",
       "      <td>1052015</td>\n",
       "    </tr>\n",
       "    <tr>\n",
       "      <th>...</th>\n",
       "      <td>...</td>\n",
       "    </tr>\n",
       "    <tr>\n",
       "      <th>1239</th>\n",
       "      <td>8312020</td>\n",
       "    </tr>\n",
       "    <tr>\n",
       "      <th>1240</th>\n",
       "      <td>912020</td>\n",
       "    </tr>\n",
       "    <tr>\n",
       "      <th>1241</th>\n",
       "      <td>922020</td>\n",
       "    </tr>\n",
       "    <tr>\n",
       "      <th>1242</th>\n",
       "      <td>932020</td>\n",
       "    </tr>\n",
       "    <tr>\n",
       "      <th>1243</th>\n",
       "      <td>942020</td>\n",
       "    </tr>\n",
       "  </tbody>\n",
       "</table>\n",
       "<p>1244 rows × 1 columns</p>\n",
       "</div>"
      ],
      "text/plain": [
       "         Date\n",
       "0     9292015\n",
       "1     9302015\n",
       "2     1012015\n",
       "3     1022015\n",
       "4     1052015\n",
       "...       ...\n",
       "1239  8312020\n",
       "1240   912020\n",
       "1241   922020\n",
       "1242   932020\n",
       "1243   942020\n",
       "\n",
       "[1244 rows x 1 columns]"
      ]
     },
     "execution_count": 24,
     "metadata": {},
     "output_type": "execute_result"
    }
   ],
   "source": [
    "s_1"
   ]
  },
  {
   "cell_type": "code",
   "execution_count": 25,
   "metadata": {},
   "outputs": [],
   "source": [
    "stockdf=s_1.join(stock_1,how='outer')"
   ]
  },
  {
   "cell_type": "code",
   "execution_count": 26,
   "metadata": {},
   "outputs": [
    {
     "data": {
      "text/html": [
       "<div>\n",
       "<style scoped>\n",
       "    .dataframe tbody tr th:only-of-type {\n",
       "        vertical-align: middle;\n",
       "    }\n",
       "\n",
       "    .dataframe tbody tr th {\n",
       "        vertical-align: top;\n",
       "    }\n",
       "\n",
       "    .dataframe thead th {\n",
       "        text-align: right;\n",
       "    }\n",
       "</style>\n",
       "<table border=\"1\" class=\"dataframe\">\n",
       "  <thead>\n",
       "    <tr style=\"text-align: right;\">\n",
       "      <th></th>\n",
       "      <th>Date</th>\n",
       "      <th>Open</th>\n",
       "      <th>High</th>\n",
       "      <th>Low</th>\n",
       "      <th>Close</th>\n",
       "      <th>Volume</th>\n",
       "      <th>Prediction</th>\n",
       "    </tr>\n",
       "  </thead>\n",
       "  <tbody>\n",
       "    <tr>\n",
       "      <th>0</th>\n",
       "      <td>9292015</td>\n",
       "      <td>597.280029</td>\n",
       "      <td>605.000000</td>\n",
       "      <td>590.219971</td>\n",
       "      <td>594.969971</td>\n",
       "      <td>2309500.0</td>\n",
       "      <td>650.280029</td>\n",
       "    </tr>\n",
       "    <tr>\n",
       "      <th>1</th>\n",
       "      <td>9302015</td>\n",
       "      <td>603.280029</td>\n",
       "      <td>608.760010</td>\n",
       "      <td>600.729980</td>\n",
       "      <td>608.419983</td>\n",
       "      <td>2413400.0</td>\n",
       "      <td>642.609985</td>\n",
       "    </tr>\n",
       "    <tr>\n",
       "      <th>2</th>\n",
       "      <td>1012015</td>\n",
       "      <td>608.369995</td>\n",
       "      <td>612.090027</td>\n",
       "      <td>599.849976</td>\n",
       "      <td>611.289978</td>\n",
       "      <td>1867600.0</td>\n",
       "      <td>651.789978</td>\n",
       "    </tr>\n",
       "    <tr>\n",
       "      <th>3</th>\n",
       "      <td>1022015</td>\n",
       "      <td>607.200012</td>\n",
       "      <td>627.340027</td>\n",
       "      <td>603.130005</td>\n",
       "      <td>626.909973</td>\n",
       "      <td>2684800.0</td>\n",
       "      <td>702.000000</td>\n",
       "    </tr>\n",
       "    <tr>\n",
       "      <th>4</th>\n",
       "      <td>1052015</td>\n",
       "      <td>632.000000</td>\n",
       "      <td>643.010010</td>\n",
       "      <td>627.000000</td>\n",
       "      <td>641.469971</td>\n",
       "      <td>1803600.0</td>\n",
       "      <td>712.780029</td>\n",
       "    </tr>\n",
       "  </tbody>\n",
       "</table>\n",
       "</div>"
      ],
      "text/plain": [
       "      Date        Open        High         Low       Close     Volume  \\\n",
       "0  9292015  597.280029  605.000000  590.219971  594.969971  2309500.0   \n",
       "1  9302015  603.280029  608.760010  600.729980  608.419983  2413400.0   \n",
       "2  1012015  608.369995  612.090027  599.849976  611.289978  1867600.0   \n",
       "3  1022015  607.200012  627.340027  603.130005  626.909973  2684800.0   \n",
       "4  1052015  632.000000  643.010010  627.000000  641.469971  1803600.0   \n",
       "\n",
       "   Prediction  \n",
       "0  650.280029  \n",
       "1  642.609985  \n",
       "2  651.789978  \n",
       "3  702.000000  \n",
       "4  712.780029  "
      ]
     },
     "execution_count": 26,
     "metadata": {},
     "output_type": "execute_result"
    }
   ],
   "source": [
    "stockdf.head()"
   ]
  },
  {
   "cell_type": "code",
   "execution_count": 27,
   "metadata": {},
   "outputs": [
    {
     "data": {
      "text/html": [
       "<div>\n",
       "<style scoped>\n",
       "    .dataframe tbody tr th:only-of-type {\n",
       "        vertical-align: middle;\n",
       "    }\n",
       "\n",
       "    .dataframe tbody tr th {\n",
       "        vertical-align: top;\n",
       "    }\n",
       "\n",
       "    .dataframe thead th {\n",
       "        text-align: right;\n",
       "    }\n",
       "</style>\n",
       "<table border=\"1\" class=\"dataframe\">\n",
       "  <thead>\n",
       "    <tr style=\"text-align: right;\">\n",
       "      <th></th>\n",
       "      <th>Date</th>\n",
       "      <th>Open</th>\n",
       "      <th>High</th>\n",
       "      <th>Low</th>\n",
       "      <th>Close</th>\n",
       "      <th>Volume</th>\n",
       "      <th>Prediction</th>\n",
       "    </tr>\n",
       "  </thead>\n",
       "  <tbody>\n",
       "    <tr>\n",
       "      <th>1239</th>\n",
       "      <td>8312020</td>\n",
       "      <td>1647.890015</td>\n",
       "      <td>1647.964966</td>\n",
       "      <td>1630.310059</td>\n",
       "      <td>1634.180054</td>\n",
       "      <td>1823400.0</td>\n",
       "      <td>1465.459961</td>\n",
       "    </tr>\n",
       "    <tr>\n",
       "      <th>1240</th>\n",
       "      <td>912020</td>\n",
       "      <td>1636.630005</td>\n",
       "      <td>1665.729980</td>\n",
       "      <td>1632.219971</td>\n",
       "      <td>1660.709961</td>\n",
       "      <td>1826700.0</td>\n",
       "      <td>1415.209961</td>\n",
       "    </tr>\n",
       "    <tr>\n",
       "      <th>1241</th>\n",
       "      <td>922020</td>\n",
       "      <td>1673.775024</td>\n",
       "      <td>1733.180054</td>\n",
       "      <td>1666.329956</td>\n",
       "      <td>1728.280029</td>\n",
       "      <td>2511200.0</td>\n",
       "      <td>1428.290039</td>\n",
       "    </tr>\n",
       "    <tr>\n",
       "      <th>1242</th>\n",
       "      <td>932020</td>\n",
       "      <td>1709.713989</td>\n",
       "      <td>1709.713989</td>\n",
       "      <td>1615.060059</td>\n",
       "      <td>1641.839966</td>\n",
       "      <td>3107800.0</td>\n",
       "      <td>1444.959961</td>\n",
       "    </tr>\n",
       "    <tr>\n",
       "      <th>1243</th>\n",
       "      <td>942020</td>\n",
       "      <td>1624.260010</td>\n",
       "      <td>1645.109985</td>\n",
       "      <td>1547.613037</td>\n",
       "      <td>1591.040039</td>\n",
       "      <td>2608600.0</td>\n",
       "      <td>1464.520020</td>\n",
       "    </tr>\n",
       "  </tbody>\n",
       "</table>\n",
       "</div>"
      ],
      "text/plain": [
       "         Date         Open         High          Low        Close     Volume  \\\n",
       "1239  8312020  1647.890015  1647.964966  1630.310059  1634.180054  1823400.0   \n",
       "1240   912020  1636.630005  1665.729980  1632.219971  1660.709961  1826700.0   \n",
       "1241   922020  1673.775024  1733.180054  1666.329956  1728.280029  2511200.0   \n",
       "1242   932020  1709.713989  1709.713989  1615.060059  1641.839966  3107800.0   \n",
       "1243   942020  1624.260010  1645.109985  1547.613037  1591.040039  2608600.0   \n",
       "\n",
       "       Prediction  \n",
       "1239  1465.459961  \n",
       "1240  1415.209961  \n",
       "1241  1428.290039  \n",
       "1242  1444.959961  \n",
       "1243  1464.520020  "
      ]
     },
     "execution_count": 27,
     "metadata": {},
     "output_type": "execute_result"
    }
   ],
   "source": [
    "stockdf.tail()"
   ]
  },
  {
   "cell_type": "code",
   "execution_count": 28,
   "metadata": {},
   "outputs": [
    {
     "name": "stdout",
     "output_type": "stream",
     "text": [
      "[[9.29201500e+06 5.97280029e+02 6.05000000e+02 5.90219971e+02\n",
      "  5.94969971e+02 2.30950000e+06]\n",
      " [9.30201500e+06 6.03280029e+02 6.08760010e+02 6.00729980e+02\n",
      "  6.08419983e+02 2.41340000e+06]\n",
      " [1.01201500e+06 6.08369995e+02 6.12090027e+02 5.99849976e+02\n",
      "  6.11289978e+02 1.86760000e+06]\n",
      " ...\n",
      " [8.12202000e+06 1.48557996e+03 1.51238599e+03 1.48525000e+03\n",
      "  1.50662000e+03 1.43770000e+06]\n",
      " [8.13202000e+06 1.51033997e+03 1.53725000e+03 1.50800500e+03\n",
      "  1.51844995e+03 1.45520000e+06]\n",
      " [8.14202000e+06 1.51566003e+03 1.52190002e+03 1.50288000e+03\n",
      "  1.50772998e+03 1.35480000e+06]]\n"
     ]
    }
   ],
   "source": [
    "X=np.array(stockdf.drop(['Prediction'],axis=1)[:-future_days])\n",
    "print(X)"
   ]
  },
  {
   "cell_type": "code",
   "execution_count": 29,
   "metadata": {},
   "outputs": [
    {
     "data": {
      "text/plain": [
       "1229"
      ]
     },
     "execution_count": 29,
     "metadata": {},
     "output_type": "execute_result"
    }
   ],
   "source": [
    "X.shape[0]"
   ]
  },
  {
   "cell_type": "code",
   "execution_count": 30,
   "metadata": {},
   "outputs": [],
   "source": [
    "# Create the taeget dataset 'y' and convert it to a numpy array\n",
    "y=np.array(stockdf['Prediction'])[:-future_days]"
   ]
  },
  {
   "cell_type": "code",
   "execution_count": 31,
   "metadata": {},
   "outputs": [
    {
     "data": {
      "text/plain": [
       "array([ 650.280029,  642.609985,  651.789978, ..., 1728.280029,\n",
       "       1641.839966, 1591.040039])"
      ]
     },
     "execution_count": 31,
     "metadata": {},
     "output_type": "execute_result"
    }
   ],
   "source": [
    "y"
   ]
  },
  {
   "cell_type": "code",
   "execution_count": 32,
   "metadata": {},
   "outputs": [
    {
     "data": {
      "text/plain": [
       "(1229,)"
      ]
     },
     "execution_count": 32,
     "metadata": {},
     "output_type": "execute_result"
    }
   ],
   "source": [
    "y.shape"
   ]
  },
  {
   "cell_type": "code",
   "execution_count": 33,
   "metadata": {},
   "outputs": [],
   "source": [
    "# train and test are used to simulate the entire data..which will be used for building model for prediction\n",
    "import sklearn.model_selection as model_selection\n",
    "X_train,X_test,y_train,y_test=model_selection.train_test_split(X,y,test_size=0.2,random_state=7)"
   ]
  },
  {
   "cell_type": "code",
   "execution_count": 34,
   "metadata": {},
   "outputs": [
    {
     "name": "stderr",
     "output_type": "stream",
     "text": [
      "C:\\Users\\RetailAdmin\\Anaconda3\\lib\\site-packages\\dask\\dataframe\\utils.py:15: FutureWarning: pandas.util.testing is deprecated. Use the functions in the public API at pandas.testing instead.\n",
      "  import pandas.util.testing as tm\n"
     ]
    }
   ],
   "source": [
    "from sklearn.linear_model import LinearRegression \n",
    "from sklearn.svm import SVR\n",
    "from sklearn.ensemble import RandomForestRegressor\n",
    "from sklearn.ensemble import GradientBoostingRegressor\n",
    "from sklearn.tree import DecisionTreeRegressor\n",
    "import xgboost as XG\n",
    "from xgboost import XGBRegressor\n",
    "\n",
    "from sklearn.model_selection import GridSearchCV\n",
    "from sklearn.model_selection import RandomizedSearchCV\n",
    "from sklearn.model_selection import KFold\n",
    "from sklearn.model_selection import cross_val_score\n",
    "\n",
    "# Common sklearn Model Helpers\n",
    "#from sklearn import feature_selection\n",
    "from sklearn import model_selection\n",
    "from sklearn import metrics\n"
   ]
  },
  {
   "cell_type": "code",
   "execution_count": 35,
   "metadata": {},
   "outputs": [],
   "source": [
    "# selection of algorithms to consider and set performance measure\n",
    "models = []\n",
    "models.append(('Linear Regression', LinearRegression()))\n",
    "models.append(('SVM',SVR()))\n",
    "models.append(('Random Forest', RandomForestRegressor(n_estimators=100)))\n",
    "models.append(('Decision Tree Regressor',\n",
    "               DecisionTreeRegressor()))\n",
    "models.append(('xgboost',\n",
    "               XGBRegressor()))"
   ]
  },
  {
   "cell_type": "code",
   "execution_count": 36,
   "metadata": {},
   "outputs": [
    {
     "name": "stderr",
     "output_type": "stream",
     "text": [
      "C:\\Users\\RetailAdmin\\Anaconda3\\lib\\site-packages\\sklearn\\model_selection\\_split.py:297: FutureWarning: Setting a random_state has no effect since shuffle is False. This will raise an error in 0.24. You should leave random_state to its default (None), or set shuffle=True.\n",
      "  FutureWarning\n",
      "C:\\Users\\RetailAdmin\\Anaconda3\\lib\\site-packages\\sklearn\\model_selection\\_split.py:297: FutureWarning: Setting a random_state has no effect since shuffle is False. This will raise an error in 0.24. You should leave random_state to its default (None), or set shuffle=True.\n",
      "  FutureWarning\n",
      "C:\\Users\\RetailAdmin\\Anaconda3\\lib\\site-packages\\sklearn\\model_selection\\_split.py:297: FutureWarning: Setting a random_state has no effect since shuffle is False. This will raise an error in 0.24. You should leave random_state to its default (None), or set shuffle=True.\n",
      "  FutureWarning\n",
      "C:\\Users\\RetailAdmin\\Anaconda3\\lib\\site-packages\\sklearn\\model_selection\\_split.py:297: FutureWarning: Setting a random_state has no effect since shuffle is False. This will raise an error in 0.24. You should leave random_state to its default (None), or set shuffle=True.\n",
      "  FutureWarning\n",
      "C:\\Users\\RetailAdmin\\Anaconda3\\lib\\site-packages\\sklearn\\model_selection\\_split.py:297: FutureWarning: Setting a random_state has no effect since shuffle is False. This will raise an error in 0.24. You should leave random_state to its default (None), or set shuffle=True.\n",
      "  FutureWarning\n"
     ]
    },
    {
     "data": {
      "text/html": [
       "<div>\n",
       "<style scoped>\n",
       "    .dataframe tbody tr th:only-of-type {\n",
       "        vertical-align: middle;\n",
       "    }\n",
       "\n",
       "    .dataframe tbody tr th {\n",
       "        vertical-align: top;\n",
       "    }\n",
       "\n",
       "    .dataframe thead th {\n",
       "        text-align: right;\n",
       "    }\n",
       "</style>\n",
       "<table border=\"1\" class=\"dataframe\">\n",
       "  <thead>\n",
       "    <tr style=\"text-align: right;\">\n",
       "      <th></th>\n",
       "      <th>Algorithm</th>\n",
       "      <th>Score Mean</th>\n",
       "      <th>Score STD</th>\n",
       "    </tr>\n",
       "  </thead>\n",
       "  <tbody>\n",
       "    <tr>\n",
       "      <th>2</th>\n",
       "      <td>Random Forest</td>\n",
       "      <td>95.55</td>\n",
       "      <td>1.03</td>\n",
       "    </tr>\n",
       "    <tr>\n",
       "      <th>4</th>\n",
       "      <td>xgboost</td>\n",
       "      <td>95.28</td>\n",
       "      <td>1.01</td>\n",
       "    </tr>\n",
       "    <tr>\n",
       "      <th>0</th>\n",
       "      <td>Linear Regression</td>\n",
       "      <td>93.01</td>\n",
       "      <td>1.32</td>\n",
       "    </tr>\n",
       "    <tr>\n",
       "      <th>3</th>\n",
       "      <td>Decision Tree Regressor</td>\n",
       "      <td>92.60</td>\n",
       "      <td>1.49</td>\n",
       "    </tr>\n",
       "    <tr>\n",
       "      <th>1</th>\n",
       "      <td>SVM</td>\n",
       "      <td>-0.88</td>\n",
       "      <td>1.11</td>\n",
       "    </tr>\n",
       "  </tbody>\n",
       "</table>\n",
       "</div>"
      ],
      "text/plain": [
       "                 Algorithm  Score Mean  Score STD\n",
       "2            Random Forest       95.55       1.03\n",
       "4                  xgboost       95.28       1.01\n",
       "0        Linear Regression       93.01       1.32\n",
       "3  Decision Tree Regressor       92.60       1.49\n",
       "1                      SVM       -0.88       1.11"
      ]
     },
     "execution_count": 36,
     "metadata": {},
     "output_type": "execute_result"
    }
   ],
   "source": [
    "acc_results = []\n",
    "names = []\n",
    "# set table to table to populate with performance results\n",
    "col = ['Algorithm','Score Mean', 'Score STD']\n",
    "df_results = pd.DataFrame(columns=col)\n",
    "i = 0\n",
    "# evaluate each model using cross-validation\n",
    "for name, model in models:\n",
    "    kfold = model_selection.KFold(\n",
    "        n_splits=5, random_state=7)  # 10-fold cross-validation\n",
    "\n",
    "    cv_score_results = model_selection.cross_val_score(  # accuracy scoring\n",
    "        model, X_train, y_train, cv=kfold)\n",
    "\n",
    "    acc_results.append(cv_score_results)\n",
    "    names.append(name)\n",
    "    df_results.loc[i] = [name,\n",
    "                         round(cv_score_results.mean()*100, 2),\n",
    "                         round(cv_score_results.std()*100, 2)\n",
    "                         ]\n",
    "    i += 1\n",
    "df_results.sort_values(by=['Score Mean'], ascending=False)"
   ]
  },
  {
   "cell_type": "code",
   "execution_count": 40,
   "metadata": {},
   "outputs": [],
   "source": [
    "# Random Forest Regressor\n",
    "\n",
    "rg_rf = RandomForestRegressor(n_estimators=100)\n",
    "rg_rf.fit(X_train,y_train)\n",
    "y_pred_rf = rg_rf.predict(X_test)\n",
    "\n",
    "# Xgboost\n",
    "\n",
    "#rg_xg= XGBRegressor()\n",
    "#rg_xg.fit(X_train,y_train)"
   ]
  },
  {
   "cell_type": "code",
   "execution_count": 41,
   "metadata": {},
   "outputs": [
    {
     "name": "stdout",
     "output_type": "stream",
     "text": [
      "Accuracy of Random Forest Model: 0.9564564023211086\n"
     ]
    }
   ],
   "source": [
    "#print(\"Accuracy of Linear Regerssion Model:\",rg_lr.score(X_test,y_test))\n",
    "#print(\"Accuracy of SVM-RBF Model:\",rg_svr.score(X_test,y_test))\n",
    "print(\"Accuracy of Random Forest Model:\",rg_rf.score(X_test,y_test))\n",
    "#print(\"Accuracy of Decision Tree Model:\",rg_dt.score(X_test,y_test))\n",
    "#print(\"Accuracy of XGBoost Model:\",rg_xg.score(X_test,y_test))"
   ]
  },
  {
   "cell_type": "code",
   "execution_count": 42,
   "metadata": {},
   "outputs": [
    {
     "data": {
      "text/plain": [
       "array([ 958.76829847,  960.70339118,  770.71488782, 1106.71899229,\n",
       "       1058.00549372, 1029.22898772, 1525.32519055, 1326.9743152 ,\n",
       "       1517.95838377, 1200.87359742,  750.96269837, 1285.36471421,\n",
       "        714.72520517, 1133.5562073 ,  857.54360703, 1204.13860233,\n",
       "       1062.67541265, 1018.82120108,  764.67744822, 1176.59969733,\n",
       "       1092.15221939, 1082.29548833,  717.09929684,  947.86869805,\n",
       "       1208.40660038,  717.66760266,  777.89340642,  836.62608886,\n",
       "        774.6103931 , 1055.80101319,  714.81320271,  774.12340652,\n",
       "       1131.13438355, 1128.71921579, 1150.80599429, 1169.44039984,\n",
       "       1130.11350172,  919.37049678,  732.41250449, 1115.95230235,\n",
       "        951.20210323, 1194.63909426, 1116.19440925, 1220.99049672,\n",
       "        707.19830208,  846.66400256, 1208.91420043,  741.99870414,\n",
       "        933.31070361, 1171.51979317,  772.27329713, 1125.99358762,\n",
       "       1430.69138055, 1074.99799612, 1192.47399059,  847.75510177,\n",
       "       1510.41249636,  721.97050541, 1059.32479794,  726.53769718,\n",
       "        787.47619449, 1156.53649287,  759.65739577, 1184.3606824 ,\n",
       "       1131.11099675, 1165.27119802, 1345.13221939, 1468.79688839,\n",
       "       1087.98908329, 1360.61181784, 1214.24899906, 1251.72539669,\n",
       "       1098.05882213,  840.34429551, 1585.05971925,  938.13161071,\n",
       "       1231.49109383, 1177.96031372,  709.98570017, 1304.96901123,\n",
       "       1378.52161251, 1086.95961497, 1391.76569835,  712.07188737,\n",
       "       1124.8947022 , 1086.4652998 ,  941.96160024,  733.2361994 ,\n",
       "       1109.50959771, 1182.28230347,  986.20690673,  725.48220626,\n",
       "       1379.87720829, 1201.61917725, 1186.04249752, 1178.12109083,\n",
       "       1440.69749641,  844.5076078 ,  731.22789895, 1347.98180675,\n",
       "        719.36659925, 1188.25780765,  962.28570123,  953.68180822,\n",
       "        759.91119995,  700.10011473,  749.10531336, 1207.26939334,\n",
       "       1183.7677075 , 1429.28338726, 1197.62650032,  737.14759803,\n",
       "        722.98570305, 1137.07782974, 1211.53759765,  951.9406042 ,\n",
       "        729.84950188, 1071.4834887 , 1353.98090088, 1477.12010259,\n",
       "       1031.15288429,  926.15019763, 1259.50970595, 1178.46479974,\n",
       "        771.63589417,  768.07460207, 1346.97751477, 1221.06920392,\n",
       "        784.81580511, 1432.38717753,  959.70990196,  721.22629877,\n",
       "       1062.66129392, 1173.36299622, 1517.33919207, 1412.93701043,\n",
       "       1504.72980362,  726.07969968, 1494.18157348, 1527.32399671,\n",
       "       1379.17649539, 1220.14630494, 1071.38909729,  788.67331073,\n",
       "        727.84419856, 1446.42789797,  780.5232982 , 1052.99750368,\n",
       "       1409.70858145, 1031.09950313,  728.35580568, 1177.60840157,\n",
       "       1085.36561405, 1108.07870177,  925.39270136,  735.53200562,\n",
       "        938.16750553, 1573.61110712, 1156.05649605, 1268.52371467,\n",
       "        926.04519647, 1018.81098816, 1211.79310552, 1046.19560681,\n",
       "        786.59790296,  779.52189275,  724.66979663, 1435.13297105,\n",
       "        961.08778751, 1115.53280034,  940.93940918, 1129.09010866,\n",
       "        739.4734039 , 1192.57849751, 1189.64658208, 1142.35458746,\n",
       "        803.68169924, 1196.62430681,  938.60151003,  719.56569767,\n",
       "       1189.12929461,  842.4717919 , 1062.24259327, 1238.67329485,\n",
       "       1113.53739312, 1053.33100891,  939.31110108, 1042.06818912,\n",
       "       1128.12278012, 1026.02278436,  731.79079296, 1178.63449955,\n",
       "       1439.58720088, 1319.30260875,  733.96090328,  771.16100109,\n",
       "        815.51074957, 1172.13789857, 1160.6880951 ,  760.56330076,\n",
       "        781.2183046 ,  931.42530205,  780.97439884, 1048.95229857,\n",
       "        795.737755  , 1068.78009706,  950.78930606, 1062.78359986,\n",
       "        764.30410036,  739.26839659, 1050.66149714, 1149.2680999 ,\n",
       "       1219.91890074, 1236.56239605,  717.13529809, 1050.88690248,\n",
       "        832.28480472, 1432.99989367,  730.91900095, 1074.63820565,\n",
       "       1276.1022057 , 1343.66751234, 1095.64580949, 1182.01270154,\n",
       "        924.88599975, 1150.90870366,  716.78379956, 1509.9389001 ,\n",
       "       1158.53089101,  773.52040478, 1107.08941044,  728.23400326,\n",
       "        936.57019771,  768.21849794,  699.19810492,  847.25660201,\n",
       "        711.01820797,  783.39690252, 1102.62989434, 1065.00260311,\n",
       "        758.31339549,  936.74770149, 1228.79340829,  719.60180465,\n",
       "       1097.8173004 , 1502.98718387])"
      ]
     },
     "execution_count": 42,
     "metadata": {},
     "output_type": "execute_result"
    }
   ],
   "source": [
    "y_pred_rf = rg_rf.predict(X_test)\n",
    "y_pred_rf"
   ]
  },
  {
   "cell_type": "code",
   "execution_count": 43,
   "metadata": {},
   "outputs": [
    {
     "data": {
      "text/plain": [
       "246"
      ]
     },
     "execution_count": 43,
     "metadata": {},
     "output_type": "execute_result"
    }
   ],
   "source": [
    "y_pred_rf.shape[0]"
   ]
  },
  {
   "cell_type": "code",
   "execution_count": 44,
   "metadata": {},
   "outputs": [
    {
     "data": {
      "text/html": [
       "<div>\n",
       "<style scoped>\n",
       "    .dataframe tbody tr th:only-of-type {\n",
       "        vertical-align: middle;\n",
       "    }\n",
       "\n",
       "    .dataframe tbody tr th {\n",
       "        vertical-align: top;\n",
       "    }\n",
       "\n",
       "    .dataframe thead th {\n",
       "        text-align: right;\n",
       "    }\n",
       "</style>\n",
       "<table border=\"1\" class=\"dataframe\">\n",
       "  <thead>\n",
       "    <tr style=\"text-align: right;\">\n",
       "      <th></th>\n",
       "      <th>Close</th>\n",
       "    </tr>\n",
       "  </thead>\n",
       "  <tbody>\n",
       "    <tr>\n",
       "      <th>0</th>\n",
       "      <td>594.969971</td>\n",
       "    </tr>\n",
       "    <tr>\n",
       "      <th>1</th>\n",
       "      <td>608.419983</td>\n",
       "    </tr>\n",
       "    <tr>\n",
       "      <th>2</th>\n",
       "      <td>611.289978</td>\n",
       "    </tr>\n",
       "    <tr>\n",
       "      <th>3</th>\n",
       "      <td>626.909973</td>\n",
       "    </tr>\n",
       "    <tr>\n",
       "      <th>4</th>\n",
       "      <td>641.469971</td>\n",
       "    </tr>\n",
       "    <tr>\n",
       "      <th>...</th>\n",
       "      <td>...</td>\n",
       "    </tr>\n",
       "    <tr>\n",
       "      <th>1239</th>\n",
       "      <td>1634.180054</td>\n",
       "    </tr>\n",
       "    <tr>\n",
       "      <th>1240</th>\n",
       "      <td>1660.709961</td>\n",
       "    </tr>\n",
       "    <tr>\n",
       "      <th>1241</th>\n",
       "      <td>1728.280029</td>\n",
       "    </tr>\n",
       "    <tr>\n",
       "      <th>1242</th>\n",
       "      <td>1641.839966</td>\n",
       "    </tr>\n",
       "    <tr>\n",
       "      <th>1243</th>\n",
       "      <td>1591.040039</td>\n",
       "    </tr>\n",
       "  </tbody>\n",
       "</table>\n",
       "<p>1244 rows × 1 columns</p>\n",
       "</div>"
      ],
      "text/plain": [
       "            Close\n",
       "0      594.969971\n",
       "1      608.419983\n",
       "2      611.289978\n",
       "3      626.909973\n",
       "4      641.469971\n",
       "...           ...\n",
       "1239  1634.180054\n",
       "1240  1660.709961\n",
       "1241  1728.280029\n",
       "1242  1641.839966\n",
       "1243  1591.040039\n",
       "\n",
       "[1244 rows x 1 columns]"
      ]
     },
     "execution_count": 44,
     "metadata": {},
     "output_type": "execute_result"
    }
   ],
   "source": [
    "stockdf1=pd.DataFrame(stock['Close'])\n",
    "stockdf1"
   ]
  },
  {
   "cell_type": "code",
   "execution_count": 47,
   "metadata": {},
   "outputs": [
    {
     "data": {
      "text/plain": [
       "array([[7.27202000e+06, 1.51559998e+03, 1.54096997e+03, 1.51520996e+03,\n",
       "        1.53019995e+03, 1.24600000e+06],\n",
       "       [7.28202000e+06, 1.52518005e+03, 1.52647998e+03, 1.49766003e+03,\n",
       "        1.50033997e+03, 1.70220000e+06],\n",
       "       [7.29202000e+06, 1.50631995e+03, 1.53125195e+03, 1.50132996e+03,\n",
       "        1.52202002e+03, 1.10650000e+06],\n",
       "       [7.30202000e+06, 1.49700000e+03, 1.53787000e+03, 1.49221997e+03,\n",
       "        1.53144995e+03, 1.67140000e+06],\n",
       "       [7.31202000e+06, 1.50501001e+03, 1.50894995e+03, 1.45403003e+03,\n",
       "        1.48295996e+03, 3.43990000e+06],\n",
       "       [8.32020000e+05, 1.48664001e+03, 1.49046997e+03, 1.46564001e+03,\n",
       "        1.47444995e+03, 2.33020000e+06],\n",
       "       [8.42020000e+05, 1.47656995e+03, 1.48556006e+03, 1.45865002e+03,\n",
       "        1.46496997e+03, 1.90350000e+06],\n",
       "       [8.52020000e+05, 1.46930005e+03, 1.48241003e+03, 1.46345996e+03,\n",
       "        1.47360999e+03, 1.97950000e+06],\n",
       "       [8.62020000e+05, 1.47175000e+03, 1.50239001e+03, 1.46600000e+03,\n",
       "        1.50009998e+03, 1.99540000e+06],\n",
       "       [8.72020000e+05, 1.50000000e+03, 1.51684497e+03, 1.48164001e+03,\n",
       "        1.49448999e+03, 1.57660000e+06],\n",
       "       [8.10202000e+06, 1.48718005e+03, 1.50407495e+03, 1.47307996e+03,\n",
       "        1.49609998e+03, 1.28930000e+06],\n",
       "       [8.11202000e+06, 1.49243994e+03, 1.51000000e+03, 1.47800000e+03,\n",
       "        1.48031995e+03, 1.45440000e+06],\n",
       "       [8.12202000e+06, 1.48557996e+03, 1.51238599e+03, 1.48525000e+03,\n",
       "        1.50662000e+03, 1.43770000e+06],\n",
       "       [8.13202000e+06, 1.51033997e+03, 1.53725000e+03, 1.50800500e+03,\n",
       "        1.51844995e+03, 1.45520000e+06],\n",
       "       [8.14202000e+06, 1.51566003e+03, 1.52190002e+03, 1.50288000e+03,\n",
       "        1.50772998e+03, 1.35480000e+06]])"
      ]
     },
     "execution_count": 47,
     "metadata": {},
     "output_type": "execute_result"
    }
   ],
   "source": [
    "# Get the last 'x' rows of feature dataset\n",
    "x_future=stockdf.drop(['Prediction'],axis=1)[:-future_days]\n",
    "x_future=x_future.tail(future_days)\n",
    "x_future=np.array(x_future)\n",
    "x_future"
   ]
  },
  {
   "cell_type": "code",
   "execution_count": 48,
   "metadata": {},
   "outputs": [],
   "source": [
    "rf_pred=rg_rf.predict(x_future)"
   ]
  },
  {
   "cell_type": "code",
   "execution_count": 49,
   "metadata": {},
   "outputs": [
    {
     "name": "stderr",
     "output_type": "stream",
     "text": [
      "C:\\Users\\RetailAdmin\\Anaconda3\\lib\\site-packages\\ipykernel_launcher.py:3: SettingWithCopyWarning: \n",
      "A value is trying to be set on a copy of a slice from a DataFrame.\n",
      "Try using .loc[row_indexer,col_indexer] = value instead\n",
      "\n",
      "See the caveats in the documentation: https://pandas.pydata.org/pandas-docs/stable/user_guide/indexing.html#returning-a-view-versus-a-copy\n",
      "  This is separate from the ipykernel package so we can avoid doing imports until\n"
     ]
    },
    {
     "data": {
      "image/png": "[encoded data removed]",
      "text/plain": [
       "<Figure size 1152x576 with 1 Axes>"
      ]
     },
     "metadata": {},
     "output_type": "display_data"
    }
   ],
   "source": [
    "#Visualisation\n",
    "predictions=rf_pred\n",
    "valid=stockdf[X.shape[0]:]\n",
    "valid['Predictions']=predictions\n",
    "plt.figure(figsize=(16,8))\n",
    "plt.title('Model')\n",
    "plt.xlabel('Days')\n",
    "plt.ylabel('Close Price')\n",
    "plt.plot(stockdf['Close'])\n",
    "plt.plot(valid[['Close','Predictions']])\n",
    "plt.legend(['orig','val','pred'])\n",
    "plt.show()"
   ]
  },
  {
   "cell_type": "code",
   "execution_count": null,
   "metadata": {},
   "outputs": [],
   "source": []
  }
 ],
 "metadata": {
  "kernelspec": {
   "display_name": "Python 3",
   "language": "python",
   "name": "python3"
  },
  "language_info": {
   "codemirror_mode": {
    "name": "ipython",
    "version": 3
   },
   "file_extension": ".py",
   "mimetype": "text/x-python",
   "name": "python",
   "nbconvert_exporter": "python",
   "pygments_lexer": "ipython3",
   "version": "3.7.3"
  }
 },
 "nbformat": 4,
 "nbformat_minor": 2
}
